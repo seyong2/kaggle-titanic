{
 "cells": [
  {
   "cell_type": "markdown",
   "id": "fc1cc5b2",
   "metadata": {},
   "source": [
    "# 1. Introduction\n",
    "\n",
    "Hello, my name is Seyong Ryoo, a student taking a master's degree in Statistics and Data Science at KU Leuven. With three weeks left before the next semester, I decided to do Kaggle projects to put what I learned over the year into practice. Titanic is my first kaggle project and I think this will be a good opportunity to review the classifiers I've learned so far and apply them to the actual data.\n",
    "\n",
    "What is required in this competition is to predict whether the passengers not included in the training data with the model trained with training samples survived or not using our model.\n",
    "\n",
    "We start by loading necessary libraries."
   ]
  },
  {
   "cell_type": "code",
   "execution_count": 1,
   "id": "544dcef4",
   "metadata": {
    "ExecuteTime": {
     "end_time": "2021-11-07T08:32:22.535067Z",
     "start_time": "2021-11-07T08:32:15.813399Z"
    }
   },
   "outputs": [],
   "source": [
    "# Data analysis\n",
    "import pandas as pd\n",
    "import numpy as np\n",
    "\n",
    "# Visualization\n",
    "import matplotlib.pyplot as plt\n",
    "import seaborn as sns\n",
    "%matplotlib inline\n",
    "\n",
    "# Preprocessing and machine learning\n",
    "from sklearn.compose import ColumnTransformer\n",
    "from sklearn.pipeline import Pipeline\n",
    "from sklearn.impute import SimpleImputer\n",
    "from sklearn.preprocessing import OneHotEncoder, StandardScaler\n",
    "from sklearn.model_selection import GridSearchCV\n",
    "from sklearn.model_selection import cross_val_score\n",
    "from sklearn.discriminant_analysis import LinearDiscriminantAnalysis, QuadraticDiscriminantAnalysis\n",
    "from sklearn.linear_model import LogisticRegression\n",
    "from sklearn.ensemble import RandomForestClassifier\n",
    "from sklearn.naive_bayes import GaussianNB\n",
    "from sklearn.neighbors import KNeighborsClassifier\n",
    "from sklearn.neural_network import MLPClassifier\n",
    "from sklearn.ensemble import GradientBoostingClassifier\n",
    "from sklearn.svm import SVC"
   ]
  },
  {
   "cell_type": "markdown",
   "id": "1f499cb3",
   "metadata": {},
   "source": [
    "# 2. Load Data"
   ]
  },
  {
   "cell_type": "code",
   "execution_count": 2,
   "id": "afafe6ac",
   "metadata": {
    "ExecuteTime": {
     "end_time": "2021-11-07T08:32:22.629110Z",
     "start_time": "2021-11-07T08:32:22.554023Z"
    }
   },
   "outputs": [],
   "source": [
    "X_train = pd.read_csv('data/train.csv', index_col = 'PassengerId')\n",
    "X_test = pd.read_csv('data/test.csv', index_col = 'PassengerId')\n",
    "\n",
    "# Obtain target and predictors\n",
    "y_train = X_train['Survived']\n",
    "X_train.drop('Survived', axis = 1, inplace = True)"
   ]
  },
  {
   "cell_type": "code",
   "execution_count": 3,
   "id": "fa5a0fb9",
   "metadata": {
    "ExecuteTime": {
     "end_time": "2021-11-07T08:32:22.707582Z",
     "start_time": "2021-11-07T08:32:22.678289Z"
    }
   },
   "outputs": [
    {
     "data": {
      "text/html": [
       "<div>\n",
       "<style scoped>\n",
       "    .dataframe tbody tr th:only-of-type {\n",
       "        vertical-align: middle;\n",
       "    }\n",
       "\n",
       "    .dataframe tbody tr th {\n",
       "        vertical-align: top;\n",
       "    }\n",
       "\n",
       "    .dataframe thead th {\n",
       "        text-align: right;\n",
       "    }\n",
       "</style>\n",
       "<table border=\"1\" class=\"dataframe\">\n",
       "  <thead>\n",
       "    <tr style=\"text-align: right;\">\n",
       "      <th></th>\n",
       "      <th>Pclass</th>\n",
       "      <th>Name</th>\n",
       "      <th>Sex</th>\n",
       "      <th>Age</th>\n",
       "      <th>SibSp</th>\n",
       "      <th>Parch</th>\n",
       "      <th>Ticket</th>\n",
       "      <th>Fare</th>\n",
       "      <th>Cabin</th>\n",
       "      <th>Embarked</th>\n",
       "    </tr>\n",
       "    <tr>\n",
       "      <th>PassengerId</th>\n",
       "      <th></th>\n",
       "      <th></th>\n",
       "      <th></th>\n",
       "      <th></th>\n",
       "      <th></th>\n",
       "      <th></th>\n",
       "      <th></th>\n",
       "      <th></th>\n",
       "      <th></th>\n",
       "      <th></th>\n",
       "    </tr>\n",
       "  </thead>\n",
       "  <tbody>\n",
       "    <tr>\n",
       "      <th>1</th>\n",
       "      <td>3</td>\n",
       "      <td>Braund, Mr. Owen Harris</td>\n",
       "      <td>male</td>\n",
       "      <td>22.0</td>\n",
       "      <td>1</td>\n",
       "      <td>0</td>\n",
       "      <td>A/5 21171</td>\n",
       "      <td>7.2500</td>\n",
       "      <td>NaN</td>\n",
       "      <td>S</td>\n",
       "    </tr>\n",
       "    <tr>\n",
       "      <th>2</th>\n",
       "      <td>1</td>\n",
       "      <td>Cumings, Mrs. John Bradley (Florence Briggs Th...</td>\n",
       "      <td>female</td>\n",
       "      <td>38.0</td>\n",
       "      <td>1</td>\n",
       "      <td>0</td>\n",
       "      <td>PC 17599</td>\n",
       "      <td>71.2833</td>\n",
       "      <td>C85</td>\n",
       "      <td>C</td>\n",
       "    </tr>\n",
       "    <tr>\n",
       "      <th>3</th>\n",
       "      <td>3</td>\n",
       "      <td>Heikkinen, Miss. Laina</td>\n",
       "      <td>female</td>\n",
       "      <td>26.0</td>\n",
       "      <td>0</td>\n",
       "      <td>0</td>\n",
       "      <td>STON/O2. 3101282</td>\n",
       "      <td>7.9250</td>\n",
       "      <td>NaN</td>\n",
       "      <td>S</td>\n",
       "    </tr>\n",
       "    <tr>\n",
       "      <th>4</th>\n",
       "      <td>1</td>\n",
       "      <td>Futrelle, Mrs. Jacques Heath (Lily May Peel)</td>\n",
       "      <td>female</td>\n",
       "      <td>35.0</td>\n",
       "      <td>1</td>\n",
       "      <td>0</td>\n",
       "      <td>113803</td>\n",
       "      <td>53.1000</td>\n",
       "      <td>C123</td>\n",
       "      <td>S</td>\n",
       "    </tr>\n",
       "    <tr>\n",
       "      <th>5</th>\n",
       "      <td>3</td>\n",
       "      <td>Allen, Mr. William Henry</td>\n",
       "      <td>male</td>\n",
       "      <td>35.0</td>\n",
       "      <td>0</td>\n",
       "      <td>0</td>\n",
       "      <td>373450</td>\n",
       "      <td>8.0500</td>\n",
       "      <td>NaN</td>\n",
       "      <td>S</td>\n",
       "    </tr>\n",
       "  </tbody>\n",
       "</table>\n",
       "</div>"
      ],
      "text/plain": [
       "             Pclass                                               Name  \\\n",
       "PassengerId                                                              \n",
       "1                 3                            Braund, Mr. Owen Harris   \n",
       "2                 1  Cumings, Mrs. John Bradley (Florence Briggs Th...   \n",
       "3                 3                             Heikkinen, Miss. Laina   \n",
       "4                 1       Futrelle, Mrs. Jacques Heath (Lily May Peel)   \n",
       "5                 3                           Allen, Mr. William Henry   \n",
       "\n",
       "                Sex   Age  SibSp  Parch            Ticket     Fare Cabin  \\\n",
       "PassengerId                                                                \n",
       "1              male  22.0      1      0         A/5 21171   7.2500   NaN   \n",
       "2            female  38.0      1      0          PC 17599  71.2833   C85   \n",
       "3            female  26.0      0      0  STON/O2. 3101282   7.9250   NaN   \n",
       "4            female  35.0      1      0            113803  53.1000  C123   \n",
       "5              male  35.0      0      0            373450   8.0500   NaN   \n",
       "\n",
       "            Embarked  \n",
       "PassengerId           \n",
       "1                  S  \n",
       "2                  C  \n",
       "3                  S  \n",
       "4                  S  \n",
       "5                  S  "
      ]
     },
     "execution_count": 3,
     "metadata": {},
     "output_type": "execute_result"
    }
   ],
   "source": [
    "X_train.head()"
   ]
  },
  {
   "cell_type": "code",
   "execution_count": 4,
   "id": "a77857d8",
   "metadata": {
    "ExecuteTime": {
     "end_time": "2021-11-07T08:32:22.755500Z",
     "start_time": "2021-11-07T08:32:22.742496Z"
    }
   },
   "outputs": [
    {
     "data": {
      "text/plain": [
       "Pclass        int64\n",
       "Name         object\n",
       "Sex          object\n",
       "Age         float64\n",
       "SibSp         int64\n",
       "Parch         int64\n",
       "Ticket       object\n",
       "Fare        float64\n",
       "Cabin        object\n",
       "Embarked     object\n",
       "dtype: object"
      ]
     },
     "execution_count": 4,
     "metadata": {},
     "output_type": "execute_result"
    }
   ],
   "source": [
    "X_train.dtypes"
   ]
  },
  {
   "cell_type": "markdown",
   "id": "00107f22",
   "metadata": {},
   "source": [
    "# 3. Preprocessing\n",
    "\n",
    "Looking at the training data set, I decided to drop variables that are unlikely to help predict survival. \n",
    "- We use `PassengerId` as the index of the data.\n",
    "- From the variable `Name`, we can infer passengers' social and economic status and think that the higher their status, the higher the probability of survival, but I think the correlation is very small. `\n",
    "- `Ticket` and `Cabin` are also dropped because I think they do not contain important information."
   ]
  },
  {
   "cell_type": "code",
   "execution_count": 5,
   "id": "5f89c89b",
   "metadata": {
    "ExecuteTime": {
     "end_time": "2021-11-07T08:32:22.816692Z",
     "start_time": "2021-11-07T08:32:22.802730Z"
    }
   },
   "outputs": [],
   "source": [
    "# Drop column 'Ticket' and 'Cabin'\n",
    "X_train.drop(['Ticket', 'Cabin', 'Name'], axis = 1, inplace = True)\n",
    "X_test.drop(['Ticket', 'Cabin', 'Name'], axis = 1, inplace = True)"
   ]
  },
  {
   "cell_type": "markdown",
   "id": "236330b6",
   "metadata": {},
   "source": [
    "I created a new variable called `Family` that counts the total number of family members on board by adding `Parch` and `SibSp`."
   ]
  },
  {
   "cell_type": "code",
   "execution_count": 6,
   "id": "b56fa4ff",
   "metadata": {
    "ExecuteTime": {
     "end_time": "2021-11-07T08:32:22.925549Z",
     "start_time": "2021-11-07T08:32:22.905569Z"
    }
   },
   "outputs": [],
   "source": [
    "X_train['Family'] = X_train['Parch'] + X_train['SibSp']\n",
    "X_train.drop(['Parch', 'SibSp'], axis = 1, inplace = True)\n",
    "\n",
    "X_test['Family'] = X_test['Parch'] + X_test['SibSp']\n",
    "X_test.drop(['Parch', 'SibSp'], axis = 1, inplace = True)"
   ]
  },
  {
   "cell_type": "markdown",
   "id": "0f694c95",
   "metadata": {},
   "source": [
    "In the case of missing data, the observations were replaced with the median value of the variable if it was a number and the mode if it was a category.\n",
    "\n",
    "Next, I transformed the data to have an appropriate representation of them for model fitting. The numeric features were standardized with zero mean and unit variance. For the categorical variables, I converted them to integers by using one-hot encoding."
   ]
  },
  {
   "cell_type": "code",
   "execution_count": 7,
   "id": "6f995db4",
   "metadata": {
    "ExecuteTime": {
     "end_time": "2021-11-07T08:32:23.629106Z",
     "start_time": "2021-11-07T08:32:23.610122Z"
    }
   },
   "outputs": [
    {
     "data": {
      "text/plain": [
       "Pclass        0\n",
       "Sex           0\n",
       "Age         177\n",
       "Fare          0\n",
       "Embarked      2\n",
       "Family        0\n",
       "dtype: int64"
      ]
     },
     "execution_count": 7,
     "metadata": {},
     "output_type": "execute_result"
    }
   ],
   "source": [
    "# Number of missing values in each column of training data\n",
    "X_train.isna().sum()"
   ]
  },
  {
   "cell_type": "code",
   "execution_count": 8,
   "id": "13f33bc9",
   "metadata": {
    "ExecuteTime": {
     "end_time": "2021-11-07T08:32:24.163254Z",
     "start_time": "2021-11-07T08:32:24.136283Z"
    }
   },
   "outputs": [],
   "source": [
    "# Preprocessing for numerical data\n",
    "numerical_transformer = Pipeline(steps = [\n",
    "    ('imputer', SimpleImputer(strategy = 'median')),\n",
    "    ('scaler', StandardScaler())\n",
    "])\n",
    "\n",
    "# Preprocessing for categorical data\n",
    "categorical_transformer = Pipeline(steps = [\n",
    "    ('imputer', SimpleImputer(strategy = 'most_frequent')),\n",
    "    ('onehot', OneHotEncoder(handle_unknown = 'ignore'))\n",
    "])\n",
    "\n",
    "# Bundle preprocessing for numerical and categorical data\n",
    "preprocessor = ColumnTransformer(transformers = [\n",
    "    ('num', numerical_transformer, X_train.select_dtypes(exclude = 'object').columns.tolist()),\n",
    "    ('cat', categorical_transformer, X_train.select_dtypes(include = 'object').columns.tolist())\n",
    "])"
   ]
  },
  {
   "cell_type": "markdown",
   "id": "7444da79",
   "metadata": {},
   "source": [
    "# 4. Visualization\n",
    "\n",
    "I visualized the data before applying it to various classification models. This made it easy to see at a glance which variables were largely related to survival.\n",
    "\n",
    "1. Sex\n",
    "\n",
    "The bar graph below shows that female passengers had a higher survival probability than male passengers."
   ]
  },
  {
   "cell_type": "code",
   "execution_count": 9,
   "id": "8ff50c56",
   "metadata": {
    "ExecuteTime": {
     "end_time": "2021-11-07T08:32:26.418561Z",
     "start_time": "2021-11-07T08:32:26.122794Z"
    }
   },
   "outputs": [
    {
     "data": {
      "text/plain": [
       "Text(0.5, 1.0, 'Survival rate based on gender')"
      ]
     },
     "execution_count": 9,
     "metadata": {},
     "output_type": "execute_result"
    },
    {
     "data": {
      "image/png": "[encoded data removed]",
      "text/plain": [
       "<Figure size 432x288 with 1 Axes>"
      ]
     },
     "metadata": {
      "needs_background": "light"
     },
     "output_type": "display_data"
    }
   ],
   "source": [
    "sns.barplot(x = 'Sex', y = y_train, data = X_train)\n",
    "plt.title('Survival rate based on gender')"
   ]
  },
  {
   "cell_type": "markdown",
   "id": "7f7693b7",
   "metadata": {},
   "source": [
    "2. Class\n",
    "\n",
    "The `Pclass` variable also seems to be deeply related to the survival rate because, as shown in the graph below, the survival rate of those who boarded the first class is higher than that of second and third class passengers."
   ]
  },
  {
   "cell_type": "code",
   "execution_count": 10,
   "id": "75355b0a",
   "metadata": {
    "ExecuteTime": {
     "end_time": "2021-11-07T08:32:26.686560Z",
     "start_time": "2021-11-07T08:32:26.470424Z"
    }
   },
   "outputs": [
    {
     "data": {
      "text/plain": [
       "Text(0.5, 1.0, 'Survival rate based on class')"
      ]
     },
     "execution_count": 10,
     "metadata": {},
     "output_type": "execute_result"
    },
    {
     "data": {
      "image/png": "[encoded data removed]",
      "text/plain": [
       "<Figure size 432x288 with 1 Axes>"
      ]
     },
     "metadata": {
      "needs_background": "light"
     },
     "output_type": "display_data"
    }
   ],
   "source": [
    "sns.barplot(x = 'Pclass', y = y_train, data = X_train)\n",
    "plt.title('Survival rate based on class')"
   ]
  },
  {
   "cell_type": "markdown",
   "id": "753fca80",
   "metadata": {},
   "source": [
    "3. Port of Embarkation\n",
    "\n",
    "People aboard Cherbourg were more likely to survive than passengers aboard the other two places (Queenstown and Southampton)."
   ]
  },
  {
   "cell_type": "code",
   "execution_count": 11,
   "id": "4a4c6277",
   "metadata": {
    "ExecuteTime": {
     "end_time": "2021-11-07T08:32:27.836210Z",
     "start_time": "2021-11-07T08:32:27.614731Z"
    }
   },
   "outputs": [
    {
     "data": {
      "text/plain": [
       "<AxesSubplot:xlabel='Embarked', ylabel='Survived'>"
      ]
     },
     "execution_count": 11,
     "metadata": {},
     "output_type": "execute_result"
    },
    {
     "data": {
      "image/png": "[encoded data removed]",
      "text/plain": [
       "<Figure size 432x288 with 1 Axes>"
      ]
     },
     "metadata": {
      "needs_background": "light"
     },
     "output_type": "display_data"
    }
   ],
   "source": [
    "sns.barplot(x = X_train['Embarked'].fillna(X_train['Embarked'].mode()), y = y_train)"
   ]
  },
  {
   "cell_type": "markdown",
   "id": "ff87c7cc",
   "metadata": {},
   "source": [
    "# 5. Model\n",
    "\n",
    "Now it's time to apply various classifiers to the data. The parameters of each model were optimized through grid search cross-validation. Then, I select the best model for submission by comparing accuracy scores of the models."
   ]
  },
  {
   "cell_type": "markdown",
   "id": "716fd544",
   "metadata": {},
   "source": [
    "## 1. Linear Discriminant Analysis (LDA) Classifier\n",
    "\n",
    "For classification of two classes, LDA finds the best linear combination of variables. This linear combination maximizes the distance between classes and minimizes the variance within the class."
   ]
  },
  {
   "cell_type": "code",
   "execution_count": 12,
   "id": "a7e81cd8",
   "metadata": {
    "ExecuteTime": {
     "end_time": "2021-11-07T08:32:29.692082Z",
     "start_time": "2021-11-07T08:32:29.435525Z"
    }
   },
   "outputs": [
    {
     "name": "stdout",
     "output_type": "stream",
     "text": [
      "{'model__solver': 'svd'} 0.7946142740568701\n"
     ]
    }
   ],
   "source": [
    "lda = LinearDiscriminantAnalysis()\n",
    "param_grid_lda = [{'model__solver': ['svd', 'lsqr']}]\n",
    "pipeline_lda = Pipeline(steps = [('preprocessor', preprocessor), ('model', lda)])\n",
    "grid_lda = GridSearchCV(pipeline_lda, param_grid_lda, cv = 5, scoring = 'accuracy')\n",
    "grid_lda.fit(X_train, y_train)\n",
    "print(grid_lda.best_params_, grid_lda.best_score_)"
   ]
  },
  {
   "cell_type": "markdown",
   "id": "7e775124",
   "metadata": {},
   "source": [
    "## 2. Quadratic Discriminant Analysis (QDA) Classifier\n",
    "\n",
    "QDA derives a quadratic decision boundary unlike LDA because it does not assume that all classes of the dependent variable have the same covariance structure."
   ]
  },
  {
   "cell_type": "code",
   "execution_count": 13,
   "id": "537eec35",
   "metadata": {
    "ExecuteTime": {
     "end_time": "2021-11-07T08:32:30.772540Z",
     "start_time": "2021-11-07T08:32:30.174729Z"
    }
   },
   "outputs": [
    {
     "name": "stdout",
     "output_type": "stream",
     "text": [
      "{'model__reg_param': 0.05} 0.8024919967359236\n"
     ]
    }
   ],
   "source": [
    "qda = QuadraticDiscriminantAnalysis(tol = 1*10^-10)\n",
    "param_grid_qda = [{'model__reg_param': [0, 0.0001, 0.001, 0.01, 0.05, 0.1]}]\n",
    "pipeline_qda = Pipeline(steps = [('preprocessor', preprocessor), ('model', qda)])\n",
    "grid_qda = GridSearchCV(pipeline_qda, param_grid_qda, cv = 5, scoring = 'accuracy')\n",
    "grid_qda.fit(X_train, y_train)\n",
    "print(grid_qda.best_params_, grid_qda.best_score_)"
   ]
  },
  {
   "cell_type": "markdown",
   "id": "eae100a0",
   "metadata": {},
   "source": [
    "## 3. Logistic Regression\n",
    "\n",
    "We model the probability of a binary dependent variable given data using logistic function of the linear predictor and the decision boundary produced by logistic regression is linear."
   ]
  },
  {
   "cell_type": "code",
   "execution_count": 14,
   "id": "986d3bc4",
   "metadata": {
    "ExecuteTime": {
     "end_time": "2021-11-07T08:32:48.021715Z",
     "start_time": "2021-11-07T08:32:31.990664Z"
    }
   },
   "outputs": [
    {
     "name": "stdout",
     "output_type": "stream",
     "text": [
      "{'model__C': 0.1, 'model__class_weight': None, 'model__max_iter': 50, 'model__solver': 'sag'} 0.7991212102190698\n"
     ]
    }
   ],
   "source": [
    "lr = LogisticRegression(random_state = 0, n_jobs = -1)\n",
    "param_grid_lr = [{'model__solver': ['sag', 'saga'],\n",
    "                  'model__C': [0.01, 0.1, 1, 5],\n",
    "                  'model__max_iter': [50, 100, 500, 1000],\n",
    "                  'model__class_weight': [None, 'balanced']}]\n",
    "pipeline_lr = Pipeline(steps = [('preprocessor', preprocessor), ('model', lr)])\n",
    "grid_lr = GridSearchCV(pipeline_lr, param_grid_lr, cv = 5, scoring = 'accuracy')\n",
    "grid_lr.fit(X_train, y_train)\n",
    "print(grid_lr.best_params_, grid_lr.best_score_)"
   ]
  },
  {
   "cell_type": "markdown",
   "id": "26058bfc",
   "metadata": {},
   "source": [
    "## 4. Random Forest Classifier\n",
    "\n",
    "Random forest classifier is an approach that helps improve the predictive performance of decision trees. It does so by randomly selecting a subset of features when building a tree. Then, the trees may be less correlated, which makes the variance smaller and avoids over-fitting."
   ]
  },
  {
   "cell_type": "code",
   "execution_count": 15,
   "id": "cc4c5248",
   "metadata": {
    "ExecuteTime": {
     "end_time": "2021-11-07T08:37:29.121011Z",
     "start_time": "2021-11-07T08:32:48.305205Z"
    }
   },
   "outputs": [
    {
     "name": "stdout",
     "output_type": "stream",
     "text": [
      "{'model__criterion': 'gini', 'model__max_depth': 10, 'model__max_features': None, 'model__max_samples': None, 'model__n_estimators': 50}\n",
      "0.8339212855439081\n"
     ]
    }
   ],
   "source": [
    "rf = RandomForestClassifier(random_state = 0, n_jobs = -1)\n",
    "param_grid_rf = [{'model__n_estimators': [5, 10, 50, 100],\n",
    "                 'model__criterion': ['gini', 'entropy'],\n",
    "                 'model__max_depth': [1,  5, 10, None],\n",
    "                 'model__max_features': ['auto', 'log2', None],\n",
    "                 'model__max_samples': [None, 1, 2, 3, 4, 5 ]}]\n",
    "pipeline_rf = Pipeline(steps = [('preprocessor', preprocessor), ('model', rf)])\n",
    "grid_rf = GridSearchCV(pipeline_rf, param_grid_rf, cv = 5, scoring = 'accuracy')\n",
    "grid_rf.fit(X_train, y_train)\n",
    "print(grid_rf.best_params_)\n",
    "print(grid_rf.best_score_)"
   ]
  },
  {
   "cell_type": "markdown",
   "id": "150ebe27",
   "metadata": {},
   "source": [
    "## 5. Gaussian Naive Bayes Classifier\n",
    "\n",
    "The classifier computes the poster probability and makes predictions based on the Bayes theorem assuming that the variables of the data follow a normal distribution."
   ]
  },
  {
   "cell_type": "code",
   "execution_count": 16,
   "id": "22d8e3fc",
   "metadata": {
    "ExecuteTime": {
     "end_time": "2021-11-07T08:37:29.684302Z",
     "start_time": "2021-11-07T08:37:29.559548Z"
    }
   },
   "outputs": [
    {
     "name": "stdout",
     "output_type": "stream",
     "text": [
      "0.7867804908668633\n"
     ]
    }
   ],
   "source": [
    "nb = GaussianNB()\n",
    "pipeline_nb = Pipeline(steps = [('preprocessor', preprocessor), ('model', nb)])\n",
    "gnb_score = cross_val_score(pipeline_nb, X_train, y_train, cv = 5, scoring = 'accuracy').mean()\n",
    "print(gnb_score)"
   ]
  },
  {
   "cell_type": "markdown",
   "id": "13231a5f",
   "metadata": {},
   "source": [
    "## 6. K-Nearest Neighbors (KNN) Classifier\n",
    "\n",
    "The KNN classifier identifies the K points in the data closest to a point to classify and calculates the conditional probability for a class as the fraction of points in the set of K identified points whose response values are equal to the class. Then, it classifies the point to the class that has the highest conditional probability."
   ]
  },
  {
   "cell_type": "code",
   "execution_count": 17,
   "id": "1362a53a",
   "metadata": {
    "ExecuteTime": {
     "end_time": "2021-11-07T08:38:19.316720Z",
     "start_time": "2021-11-07T08:37:30.060505Z"
    }
   },
   "outputs": [
    {
     "name": "stdout",
     "output_type": "stream",
     "text": [
      "{'model__algorithm': 'auto', 'model__metric': 'manhattan', 'model__n_neighbors': 10, 'model__weights': 'uniform'}\n",
      "0.8193019898311468\n"
     ]
    }
   ],
   "source": [
    "knn = KNeighborsClassifier(n_jobs = -1)\n",
    "param_grid_knn = [{\"model__n_neighbors\": [1, 10, 50, 100, 200, 300, 400, 500], \n",
    "                   \"model__weights\": [\"uniform\",\"distance\"],\n",
    "                   \"model__algorithm\": ['auto', 'ball_tree', 'kd_tree', 'brute'],\n",
    "                   \"model__metric\": ['euclidean', 'manhattan', 'chebyshev', 'minkowski']}]\n",
    "pipeline_knn = Pipeline(steps = [('preprocessor', preprocessor), ('model', knn)])\n",
    "grid_knn = GridSearchCV(pipeline_knn, param_grid_knn, cv = 5, scoring = 'accuracy')\n",
    "grid_knn.fit(X_train, y_train)\n",
    "print(grid_knn.best_params_)\n",
    "print(grid_knn.best_score_)"
   ]
  },
  {
   "cell_type": "markdown",
   "id": "6dead289",
   "metadata": {},
   "source": [
    "## 7. SVM Classifier\n",
    "\n",
    "The SVM maximizes the distance between the decision boudary and the observations of the classes adjacent to it in the classification task. For better generalization, the algorithm allows misclassification by placing some observations in different classes during the training process."
   ]
  },
  {
   "cell_type": "code",
   "execution_count": 18,
   "id": "e17726b1",
   "metadata": {
    "ExecuteTime": {
     "end_time": "2021-11-07T08:38:27.716118Z",
     "start_time": "2021-11-07T08:38:19.819853Z"
    }
   },
   "outputs": [
    {
     "name": "stdout",
     "output_type": "stream",
     "text": [
      "{'model__C': 1, 'model__gamma': 'scale', 'model__kernel': 'rbf'}\n",
      "0.8316364321134893\n"
     ]
    }
   ],
   "source": [
    "svm = SVC(random_state = 0)\n",
    "param_grid_svm = [{'model__C': [0.01, 0.1, 1, 10],\n",
    "                   'model__kernel': ['linear', 'poly', 'rbf', 'sigmoid'],\n",
    "                   'model__gamma': ['auto', 'scale']}]\n",
    "pipeline_svm = Pipeline(steps = [('preprocessor', preprocessor), ('model', svm)])\n",
    "grid_svm = GridSearchCV(pipeline_svm, param_grid_svm, cv = 5, scoring = 'accuracy')\n",
    "grid_svm.fit(X_train, y_train)\n",
    "print(grid_svm.best_params_)\n",
    "print(grid_svm.best_score_)"
   ]
  },
  {
   "cell_type": "markdown",
   "id": "5c4df487",
   "metadata": {},
   "source": [
    "## 8. Gradient Boosting Classifier\n",
    "\n",
    "Gradient Boosting is another approach to improve the predictive power of classification trees. Starting from a leaf which is e.g. the log of odds of the independent variable, we compute residuals, the difference between observed values and predictions. Then, a tree is built in order to predict the residuals. It continues building trees subsequently until the maximum number of trees specified is reached or the residuals are very small."
   ]
  },
  {
   "cell_type": "code",
   "execution_count": 19,
   "id": "e4324cc7",
   "metadata": {
    "ExecuteTime": {
     "end_time": "2021-11-07T09:19:28.916625Z",
     "start_time": "2021-11-07T08:38:28.265216Z"
    }
   },
   "outputs": [
    {
     "name": "stdout",
     "output_type": "stream",
     "text": [
      "{'model__criterion': 'friedman_mse', 'model__learning_rate': 0.01, 'model__loss': 'deviance', 'model__max_depth': 3, 'model__max_features': None, 'model__n_estimators': 1000}\n",
      "0.8350386039796623\n"
     ]
    }
   ],
   "source": [
    "gb = GradientBoostingClassifier(random_state = 0)\n",
    "param_grid_gb = [{'model__loss': ['deviance', 'exponential'],\n",
    "                 'model__learning_rate': [0.001, 0.01, 0.1],\n",
    "                 'model__n_estimators':  [10, 50, 100, 1000],\n",
    "                 'model__criterion': ['friedman_mse', 'mse'],\n",
    "                 'model__max_depth': [1, 3, 5, 10],\n",
    "                 'model__max_features': [None, 'auto', 'sqrt', 'log2']}]\n",
    "\n",
    "pipeline_gb = Pipeline(steps = [('preprocessor', preprocessor), ('model', gb)])\n",
    "grid_gb = GridSearchCV(pipeline_gb, param_grid_gb, cv = 5, scoring = 'accuracy')\n",
    "grid_gb.fit(X_train, y_train)\n",
    "print(grid_gb.best_params_)\n",
    "print(grid_gb.best_score_)"
   ]
  },
  {
   "cell_type": "markdown",
   "id": "e83f1294",
   "metadata": {},
   "source": [
    "## 9. Multi-Layer Perceptron (MLP) Classifier\n",
    "\n",
    "The MLP is a class of artificial neural network that tries to mimic the human brain and approximate the relationship between a set of features and the independent variable by using backpropagation. It is composed of multiple layers including the input and output layer, which allows to model non-linearly separable data."
   ]
  },
  {
   "cell_type": "code",
   "execution_count": 20,
   "id": "b36bf75c",
   "metadata": {
    "ExecuteTime": {
     "end_time": "2021-11-07T09:59:54.615480Z",
     "start_time": "2021-11-07T09:58:12.864991Z"
    }
   },
   "outputs": [
    {
     "name": "stdout",
     "output_type": "stream",
     "text": [
      "{'model__activation': 'relu', 'model__alpha': 0.01, 'model__hidden_layer_sizes': (7,), 'model__max_iter': 1000}\n",
      "0.8204067541271733\n"
     ]
    }
   ],
   "source": [
    "import warnings\n",
    "warnings.filterwarnings('ignore')\n",
    "warnings.simplefilter('ignore')\n",
    "\n",
    "mlp = MLPClassifier(random_state = 0, solver = 'lbfgs')\n",
    "param_grid_mlp = [{'model__hidden_layer_sizes': [(1,), (3,), (5,), (7,), (10,)],\n",
    "                   'model__activation': ['identity', 'logistic', 'tanh', 'relu'],\n",
    "                   'model__alpha': [0.001, 0.01, 0.1],\n",
    "                   'model__max_iter': [1000, 5000, 10000]}]\n",
    "\n",
    "pipeline_mlp = Pipeline(steps = [('preprocessor', preprocessor), ('model', mlp)])\n",
    "grid_mlp = GridSearchCV(pipeline_mlp, param_grid_mlp, cv = 5, scoring = 'accuracy', refit = True)\n",
    "grid_mlp.fit(X_train, y_train)\n",
    "print(grid_mlp.best_params_)\n",
    "print(grid_mlp.best_score_)"
   ]
  },
  {
   "cell_type": "code",
   "execution_count": 21,
   "id": "a2f26103",
   "metadata": {
    "ExecuteTime": {
     "end_time": "2021-11-07T11:07:20.482686Z",
     "start_time": "2021-11-07T11:07:20.434002Z"
    }
   },
   "outputs": [
    {
     "data": {
      "text/html": [
       "<div>\n",
       "<style scoped>\n",
       "    .dataframe tbody tr th:only-of-type {\n",
       "        vertical-align: middle;\n",
       "    }\n",
       "\n",
       "    .dataframe tbody tr th {\n",
       "        vertical-align: top;\n",
       "    }\n",
       "\n",
       "    .dataframe thead th {\n",
       "        text-align: right;\n",
       "    }\n",
       "</style>\n",
       "<table border=\"1\" class=\"dataframe\">\n",
       "  <thead>\n",
       "    <tr style=\"text-align: right;\">\n",
       "      <th></th>\n",
       "      <th>Accuracy</th>\n",
       "    </tr>\n",
       "  </thead>\n",
       "  <tbody>\n",
       "    <tr>\n",
       "      <th>LDA</th>\n",
       "      <td>0.794614</td>\n",
       "    </tr>\n",
       "    <tr>\n",
       "      <th>QDA</th>\n",
       "      <td>0.802492</td>\n",
       "    </tr>\n",
       "    <tr>\n",
       "      <th>Logistic regression</th>\n",
       "      <td>0.799121</td>\n",
       "    </tr>\n",
       "    <tr>\n",
       "      <th>Random Forest</th>\n",
       "      <td>0.833921</td>\n",
       "    </tr>\n",
       "    <tr>\n",
       "      <th>Gaussian Naive Bayes</th>\n",
       "      <td>0.786780</td>\n",
       "    </tr>\n",
       "    <tr>\n",
       "      <th>KNN</th>\n",
       "      <td>0.819302</td>\n",
       "    </tr>\n",
       "    <tr>\n",
       "      <th>SVM</th>\n",
       "      <td>0.831636</td>\n",
       "    </tr>\n",
       "    <tr>\n",
       "      <th>Gradient Boosting</th>\n",
       "      <td>0.835039</td>\n",
       "    </tr>\n",
       "    <tr>\n",
       "      <th>MLP</th>\n",
       "      <td>0.820407</td>\n",
       "    </tr>\n",
       "  </tbody>\n",
       "</table>\n",
       "</div>"
      ],
      "text/plain": [
       "                      Accuracy\n",
       "LDA                   0.794614\n",
       "QDA                   0.802492\n",
       "Logistic regression   0.799121\n",
       "Random Forest         0.833921\n",
       "Gaussian Naive Bayes  0.786780\n",
       "KNN                   0.819302\n",
       "SVM                   0.831636\n",
       "Gradient Boosting     0.835039\n",
       "MLP                   0.820407"
      ]
     },
     "execution_count": 21,
     "metadata": {},
     "output_type": "execute_result"
    }
   ],
   "source": [
    "pd.DataFrame([grid_lda.best_score_, grid_qda.best_score_, grid_lr.best_score_, grid_rf.best_score_, gnb_score, grid_knn.best_score_,\n",
    "              grid_svm.best_score_, grid_gb.best_score_, grid_mlp.best_score_], \n",
    "             index = ['LDA', 'QDA', 'Logistic regression', 'Random Forest', 'Gaussian Naive Bayes', 'KNN', 'SVM', 'Gradient Boosting', 'MLP'],\n",
    "             columns = ['Accuracy'])"
   ]
  },
  {
   "cell_type": "code",
   "execution_count": 22,
   "id": "23a1fc0f",
   "metadata": {
    "ExecuteTime": {
     "end_time": "2021-11-07T11:07:30.810563Z",
     "start_time": "2021-11-07T11:07:30.728212Z"
    }
   },
   "outputs": [],
   "source": [
    "submission = pd.DataFrame({'Survived': grid_gb.predict(X_test)}, index = X_test.index)\n",
    "submission.to_csv('submission_gb.csv')"
   ]
  }
 ],
 "metadata": {
  "kernelspec": {
   "display_name": "Python 3",
   "language": "python",
   "name": "python3"
  },
  "language_info": {
   "codemirror_mode": {
    "name": "ipython",
    "version": 3
   },
   "file_extension": ".py",
   "mimetype": "text/x-python",
   "name": "python",
   "nbconvert_exporter": "python",
   "pygments_lexer": "ipython3",
   "version": "3.9.5"
  },
  "toc": {
   "base_numbering": 1,
   "nav_menu": {},
   "number_sections": false,
   "sideBar": true,
   "skip_h1_title": false,
   "title_cell": "Table of Contents",
   "title_sidebar": "Contents",
   "toc_cell": false,
   "toc_position": {
    "height": "calc(100% - 180px)",
    "left": "10px",
    "top": "150px",
    "width": "232.727px"
   },
   "toc_section_display": true,
   "toc_window_display": false
  },
  "varInspector": {
   "cols": {
    "lenName": 16,
    "lenType": 16,
    "lenVar": 40
   },
   "kernels_config": {
    "python": {
     "delete_cmd_postfix": "",
     "delete_cmd_prefix": "del ",
     "library": "var_list.py",
     "varRefreshCmd": "print(var_dic_list())"
    },
    "r": {
     "delete_cmd_postfix": ") ",
     "delete_cmd_prefix": "rm(",
     "library": "var_list.r",
     "varRefreshCmd": "cat(var_dic_list()) "
    }
   },
   "types_to_exclude": [
    "module",
    "function",
    "builtin_function_or_method",
    "instance",
    "_Feature"
   ],
   "window_display": false
  }
 },
 "nbformat": 4,
 "nbformat_minor": 5
}
